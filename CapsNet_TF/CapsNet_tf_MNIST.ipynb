{
  "nbformat": 4,
  "nbformat_minor": 0,
  "metadata": {
    "colab": {
      "name": "CapsNet_tf_MNIST.ipynb",
      "version": "0.3.2",
      "views": {},
      "default_view": {},
      "provenance": []
    },
    "kernelspec": {
      "name": "python3",
      "display_name": "Python 3"
    },
    "accelerator": "GPU"
  },
  "cells": [
    {
      "metadata": {
        "id": "A_tACE0AWse0",
        "colab_type": "code",
        "colab": {
          "autoexec": {
            "startup": false,
            "wait_interval": 0
          }
        }
      },
      "cell_type": "code",
      "source": [
        "from __future__ import print_function,division,unicode_literals\n",
        "%matplotlib inline\n",
        "import matplotlib\n",
        "import matplotlib.pyplot as plt\n",
        "import numpy as np\n",
        "import tensorflow as tf"
      ],
      "execution_count": 0,
      "outputs": []
    },
    {
      "metadata": {
        "id": "ir9Tj55KW84B",
        "colab_type": "code",
        "colab": {
          "autoexec": {
            "startup": false,
            "wait_interval": 0
          }
        }
      },
      "cell_type": "code",
      "source": [
        "tf.reset_default_graph()\n",
        "np.random.seed(42)\n",
        "tf.set_random_seed(42)"
      ],
      "execution_count": 0,
      "outputs": []
    },
    {
      "metadata": {
        "id": "AKU_Kjv9X0PY",
        "colab_type": "code",
        "colab": {
          "autoexec": {
            "startup": false,
            "wait_interval": 0
          }
        }
      },
      "cell_type": "code",
      "source": [
        "from google.colab import auth\n",
        "auth.authenticate_user()"
      ],
      "execution_count": 0,
      "outputs": []
    },
    {
      "metadata": {
        "id": "YhyaUHCjXeZo",
        "colab_type": "code",
        "colab": {
          "autoexec": {
            "startup": false,
            "wait_interval": 0
          },
          "base_uri": "https://localhost:8080/",
          "height": 207
        },
        "outputId": "0f34fe5d-3d40-4452-b420-e717109c8cb2",
        "executionInfo": {
          "status": "ok",
          "timestamp": 1530138734690,
          "user_tz": -330,
          "elapsed": 31860,
          "user": {
            "displayName": "Amit Jaiswal",
            "photoUrl": "https://lh3.googleusercontent.com/a/default-user=s128",
            "userId": "102028172612648957868"
          }
        }
      },
      "cell_type": "code",
      "source": [
        "!apt-get install -y -qq software-properties-common python-software-properties module-init-tools\n",
        "!add-apt-repository -y ppa:alessandro-strada/ppa 2>&1 > /dev/null\n",
        "!apt-get update -qq 2>&1 > /dev/null\n",
        "!apt-get -y install -qq google-drive-ocamlfuse fuse\n",
        "\n",
        "# Generate creds for the Drive FUSE library.\n",
        "from oauth2client.client import GoogleCredentials\n",
        "creds = GoogleCredentials.get_application_default()\n",
        "import getpass\n",
        "!google-drive-ocamlfuse -headless -id={creds.client_id} -secret={creds.client_secret} < /dev/null 2>&1 | grep URL\n",
        "vcode = getpass.getpass()\n",
        "!echo {vcode} | google-drive-ocamlfuse -headless -id={creds.client_id} -secret={creds.client_secret}"
      ],
      "execution_count": 5,
      "outputs": [
        {
          "output_type": "stream",
          "text": [
            "gpg: keybox '/tmp/tmpwfzus021/pubring.gpg' created\n",
            "gpg: /tmp/tmpwfzus021/trustdb.gpg: trustdb created\n",
            "gpg: key AD5F235DF639B041: public key \"Launchpad PPA for Alessandro Strada\" imported\n",
            "gpg: Total number processed: 1\n",
            "gpg:               imported: 1\n",
            "Warning: apt-key output should not be parsed (stdout is not a terminal)\n",
            "Please, open the following URL in a web browser: https://accounts.google.com/o/oauth2/auth?client_id=32555940559.apps.googleusercontent.com&redirect_uri=urn%3Aietf%3Awg%3Aoauth%3A2.0%3Aoob&scope=https%3A%2F%2Fwww.googleapis.com%2Fauth%2Fdrive&response_type=code&access_type=offline&approval_prompt=force\n",
            "··········\n",
            "Please, open the following URL in a web browser: https://accounts.google.com/o/oauth2/auth?client_id=32555940559.apps.googleusercontent.com&redirect_uri=urn%3Aietf%3Awg%3Aoauth%3A2.0%3Aoob&scope=https%3A%2F%2Fwww.googleapis.com%2Fauth%2Fdrive&response_type=code&access_type=offline&approval_prompt=force\n",
            "Please enter the verification code: Access token retrieved correctly.\n"
          ],
          "name": "stdout"
        }
      ]
    },
    {
      "metadata": {
        "id": "w099K62dYJtX",
        "colab_type": "code",
        "colab": {
          "autoexec": {
            "startup": false,
            "wait_interval": 0
          }
        }
      },
      "cell_type": "code",
      "source": [
        "!mkdir -p MyDrive\n",
        "!google-drive-ocamlfuse MyDrive"
      ],
      "execution_count": 0,
      "outputs": []
    },
    {
      "metadata": {
        "id": "3J_KddSKXFTE",
        "colab_type": "code",
        "colab": {
          "autoexec": {
            "startup": false,
            "wait_interval": 0
          }
        }
      },
      "cell_type": "code",
      "source": [
        "mnist_path=\"/MyDrive/Datasets/MNIST\""
      ],
      "execution_count": 0,
      "outputs": []
    },
    {
      "metadata": {
        "id": "1iA1mHC_YON8",
        "colab_type": "code",
        "colab": {
          "autoexec": {
            "startup": false,
            "wait_interval": 0
          }
        }
      },
      "cell_type": "code",
      "source": [
        "from tensorflow.examples.tutorials.mnist import input_data"
      ],
      "execution_count": 0,
      "outputs": []
    },
    {
      "metadata": {
        "id": "p-bR1eDLYS90",
        "colab_type": "code",
        "colab": {
          "autoexec": {
            "startup": false,
            "wait_interval": 0
          },
          "base_uri": "https://localhost:8080/",
          "height": 479
        },
        "outputId": "1e1c756b-b683-40be-c7d4-f079cc53134f",
        "executionInfo": {
          "status": "ok",
          "timestamp": 1530138841411,
          "user_tz": -330,
          "elapsed": 1337,
          "user": {
            "displayName": "Amit Jaiswal",
            "photoUrl": "https://lh3.googleusercontent.com/a/default-user=s128",
            "userId": "102028172612648957868"
          }
        }
      },
      "cell_type": "code",
      "source": [
        "mnist=input_data.read_data_sets(mnist_path)"
      ],
      "execution_count": 11,
      "outputs": [
        {
          "output_type": "stream",
          "text": [
            "WARNING:tensorflow:From <ipython-input-11-14ba7baf7597>:1: read_data_sets (from tensorflow.contrib.learn.python.learn.datasets.mnist) is deprecated and will be removed in a future version.\n",
            "Instructions for updating:\n",
            "Please use alternatives such as official/mnist/dataset.py from tensorflow/models.\n",
            "WARNING:tensorflow:From /usr/local/lib/python3.6/dist-packages/tensorflow/contrib/learn/python/learn/datasets/mnist.py:260: maybe_download (from tensorflow.contrib.learn.python.learn.datasets.base) is deprecated and will be removed in a future version.\n",
            "Instructions for updating:\n",
            "Please write your own downloading logic.\n",
            "WARNING:tensorflow:From /usr/local/lib/python3.6/dist-packages/tensorflow/contrib/learn/python/learn/datasets/base.py:252: _internal_retry.<locals>.wrap.<locals>.wrapped_fn (from tensorflow.contrib.learn.python.learn.datasets.base) is deprecated and will be removed in a future version.\n",
            "Instructions for updating:\n",
            "Please use urllib or similar directly.\n",
            "Successfully downloaded train-images-idx3-ubyte.gz 9912422 bytes.\n",
            "WARNING:tensorflow:From /usr/local/lib/python3.6/dist-packages/tensorflow/contrib/learn/python/learn/datasets/mnist.py:262: extract_images (from tensorflow.contrib.learn.python.learn.datasets.mnist) is deprecated and will be removed in a future version.\n",
            "Instructions for updating:\n",
            "Please use tf.data to implement this functionality.\n",
            "Extracting /MyDrive/Datasets/MNIST/train-images-idx3-ubyte.gz\n",
            "Successfully downloaded train-labels-idx1-ubyte.gz 28881 bytes.\n",
            "WARNING:tensorflow:From /usr/local/lib/python3.6/dist-packages/tensorflow/contrib/learn/python/learn/datasets/mnist.py:267: extract_labels (from tensorflow.contrib.learn.python.learn.datasets.mnist) is deprecated and will be removed in a future version.\n",
            "Instructions for updating:\n",
            "Please use tf.data to implement this functionality.\n",
            "Extracting /MyDrive/Datasets/MNIST/train-labels-idx1-ubyte.gz\n",
            "Successfully downloaded t10k-images-idx3-ubyte.gz 1648877 bytes.\n",
            "Extracting /MyDrive/Datasets/MNIST/t10k-images-idx3-ubyte.gz\n",
            "Successfully downloaded t10k-labels-idx1-ubyte.gz 4542 bytes.\n",
            "Extracting /MyDrive/Datasets/MNIST/t10k-labels-idx1-ubyte.gz\n",
            "WARNING:tensorflow:From /usr/local/lib/python3.6/dist-packages/tensorflow/contrib/learn/python/learn/datasets/mnist.py:290: DataSet.__init__ (from tensorflow.contrib.learn.python.learn.datasets.mnist) is deprecated and will be removed in a future version.\n",
            "Instructions for updating:\n",
            "Please use alternatives such as official/mnist/dataset.py from tensorflow/models.\n"
          ],
          "name": "stdout"
        }
      ]
    },
    {
      "metadata": {
        "id": "60k3k9QCYhKG",
        "colab_type": "text"
      },
      "cell_type": "markdown",
      "source": [
        "# MNIST"
      ]
    },
    {
      "metadata": {
        "id": "mLeni5Q_Ycu5",
        "colab_type": "code",
        "colab": {
          "autoexec": {
            "startup": false,
            "wait_interval": 0
          },
          "base_uri": "https://localhost:8080/",
          "height": 145
        },
        "outputId": "410f23b3-61b0-47a5-9fd3-258b19ac4369",
        "executionInfo": {
          "status": "ok",
          "timestamp": 1530138866694,
          "user_tz": -330,
          "elapsed": 1196,
          "user": {
            "displayName": "Amit Jaiswal",
            "photoUrl": "https://lh3.googleusercontent.com/a/default-user=s128",
            "userId": "102028172612648957868"
          }
        }
      },
      "cell_type": "code",
      "source": [
        "num_samples=10\n",
        "plt.figure(figsize=(num_samples*2,3))\n",
        "for i in range(num_samples):\n",
        "    plt.subplot(1,num_samples,i+1)\n",
        "    sample_image = mnist.train.images[i].reshape(28,28)\n",
        "    plt.imshow(sample_image,cmap='binary')\n",
        "plt.show()"
      ],
      "execution_count": 12,
      "outputs": [
        {
          "output_type": "display_data",
          "data": {
            "image/png": "[encoded data removed]",
            "text/plain": [
              "<matplotlib.figure.Figure at 0x7fd5c51a3ba8>"
            ]
          },
          "metadata": {
            "tags": []
          }
        }
      ]
    },
    {
      "metadata": {
        "id": "dMX8ANIsYi7p",
        "colab_type": "code",
        "colab": {
          "autoexec": {
            "startup": false,
            "wait_interval": 0
          },
          "base_uri": "https://localhost:8080/",
          "height": 34
        },
        "outputId": "d81a3930-7468-4c0c-bcc3-c46c8b1ca7d9",
        "executionInfo": {
          "status": "ok",
          "timestamp": 1530138879603,
          "user_tz": -330,
          "elapsed": 362,
          "user": {
            "displayName": "Amit Jaiswal",
            "photoUrl": "https://lh3.googleusercontent.com/a/default-user=s128",
            "userId": "102028172612648957868"
          }
        }
      },
      "cell_type": "code",
      "source": [
        "print(mnist.train.labels[:num_samples])"
      ],
      "execution_count": 13,
      "outputs": [
        {
          "output_type": "stream",
          "text": [
            "[7 3 4 6 1 8 1 0 9 8]\n"
          ],
          "name": "stdout"
        }
      ]
    },
    {
      "metadata": {
        "id": "RyWD5RM-YoQW",
        "colab_type": "text"
      },
      "cell_type": "markdown",
      "source": [
        "# Capsule Network"
      ]
    },
    {
      "metadata": {
        "id": "lPWT-6saYmS7",
        "colab_type": "code",
        "colab": {
          "autoexec": {
            "startup": false,
            "wait_interval": 0
          }
        }
      },
      "cell_type": "code",
      "source": [
        "from IPython.display import Image,display"
      ],
      "execution_count": 0,
      "outputs": []
    },
    {
      "metadata": {
        "id": "ZpiIMqv8Yqaj",
        "colab_type": "code",
        "colab": {
          "autoexec": {
            "startup": false,
            "wait_interval": 0
          },
          "base_uri": "https://localhost:8080/",
          "height": 34
        },
        "outputId": "c0e2a276-ef7e-4850-cac9-f3cde2639813",
        "executionInfo": {
          "status": "ok",
          "timestamp": 1530139126956,
          "user_tz": -330,
          "elapsed": 383,
          "user": {
            "displayName": "Amit Jaiswal",
            "photoUrl": "https://lh3.googleusercontent.com/a/default-user=s128",
            "userId": "102028172612648957868"
          }
        }
      },
      "cell_type": "code",
      "source": [
        "display(Image(\"./MyDrive/Images/capsule_model.jpg\"))"
      ],
      "execution_count": 17,
      "outputs": [
        {
          "output_type": "display_data",
          "data": {
            "image/png": "./MyDrive/Images/capsule_model.jpg",
            "text/plain": [
              "<IPython.core.display.Image object>"
            ]
          },
          "metadata": {
            "tags": []
          }
        }
      ]
    },
    {
      "metadata": {
        "id": "--AnSa8jZYyl",
        "colab_type": "code",
        "colab": {
          "autoexec": {
            "startup": false,
            "wait_interval": 0
          }
        }
      },
      "cell_type": "code",
      "source": [
        "image_size=28\n",
        "x_images = tf.placeholder(shape=[None,image_size,image_size,1],dtype=tf.float32,name=\"x_images\")"
      ],
      "execution_count": 0,
      "outputs": []
    },
    {
      "metadata": {
        "id": "pwN9r_YNZpmt",
        "colab_type": "text"
      },
      "cell_type": "markdown",
      "source": [
        "## Primary Capsule"
      ]
    },
    {
      "metadata": {
        "id": "7dG3eVrRZoTr",
        "colab_type": "code",
        "colab": {
          "autoexec": {
            "startup": false,
            "wait_interval": 0
          }
        }
      },
      "cell_type": "code",
      "source": [
        "capsule_primary_num_fmaps=32\n",
        "capsule_primary_num_capsules=capsule_primary_num_fmaps*6*6 #32*6*6=1152\n",
        "capsule_primary_num_dimentions=8"
      ],
      "execution_count": 0,
      "outputs": []
    },
    {
      "metadata": {
        "id": "fQogBdHWZ17p",
        "colab_type": "code",
        "colab": {
          "autoexec": {
            "startup": false,
            "wait_interval": 0
          }
        }
      },
      "cell_type": "code",
      "source": [
        "conv1_params={\n",
        "    \"filters\":256,\n",
        "    \"kernel_size\":9,\n",
        "    \"strides\":1,\n",
        "    \"padding\":\"valid\",\n",
        "    \"activation\":tf.nn.relu\n",
        "}\n",
        "conv2_params={\n",
        "    \"filters\":256,\n",
        "    \"kernel_size\":9,\n",
        "    \"strides\":2,\n",
        "    \"padding\":\"valid\",\n",
        "    \"activation\":tf.nn.relu\n",
        "}"
      ],
      "execution_count": 0,
      "outputs": []
    },
    {
      "metadata": {
        "id": "DjMwHwzBZ7nU",
        "colab_type": "code",
        "colab": {
          "autoexec": {
            "startup": false,
            "wait_interval": 0
          }
        }
      },
      "cell_type": "code",
      "source": [
        "conv1_layer = tf.layers.conv2d(x_images,name=\"conv1_layer\",**conv1_params)\n",
        "conv2_layer = tf.layers.conv2d(conv1_layer,name=\"conv2_layer\",**conv2_params)"
      ],
      "execution_count": 0,
      "outputs": []
    },
    {
      "metadata": {
        "id": "hzvxP36cZ-LO",
        "colab_type": "code",
        "colab": {
          "autoexec": {
            "startup": false,
            "wait_interval": 0
          }
        }
      },
      "cell_type": "code",
      "source": [
        "primary_capsule_layer = tf.reshape(conv2_layer,[-1,capsule_primary_num_capsules,capsule_primary_num_dimentions],name=\"primary_capsule_layer\")"
      ],
      "execution_count": 0,
      "outputs": []
    },
    {
      "metadata": {
        "id": "birnDqA2aEOI",
        "colab_type": "text"
      },
      "cell_type": "markdown",
      "source": [
        "## Squashing"
      ]
    },
    {
      "metadata": {
        "id": "WjleWYaEaBKi",
        "colab_type": "code",
        "colab": {
          "autoexec": {
            "startup": false,
            "wait_interval": 0
          }
        }
      },
      "cell_type": "code",
      "source": [
        "def squash(s,axis=-1,epsilon=1e-7,name=None):\n",
        "    with tf.name_scope(name,default_name=\"squash\"):\n",
        "        s_squared_norm = tf.reduce_sum(tf.square(s),axis=axis,keepdims=True)\n",
        "        s_norm = tf.sqrt(s_squared_norm+epsilon)\n",
        "        squash_factor=s_squared_norm/(1.0+s_squared_norm)\n",
        "        unit_s = s/s_norm\n",
        "        return squash_factor*unit_s"
      ],
      "execution_count": 0,
      "outputs": []
    },
    {
      "metadata": {
        "id": "GZEnZ9YfaHP3",
        "colab_type": "code",
        "colab": {
          "autoexec": {
            "startup": false,
            "wait_interval": 0
          }
        }
      },
      "cell_type": "code",
      "source": [
        "primary_capsule_output=squash(primary_capsule_layer,name=\"primary_capsule_output\")"
      ],
      "execution_count": 0,
      "outputs": []
    },
    {
      "metadata": {
        "id": "mPbyKkS1aJgf",
        "colab_type": "code",
        "colab": {
          "autoexec": {
            "startup": false,
            "wait_interval": 0
          }
        }
      },
      "cell_type": "code",
      "source": [
        "capsule_digit_num_capsules = 10\n",
        "capsule_digit_num_dimentions=16"
      ],
      "execution_count": 0,
      "outputs": []
    },
    {
      "metadata": {
        "id": "RrkEXc-QaNjB",
        "colab_type": "code",
        "colab": {
          "autoexec": {
            "startup": false,
            "wait_interval": 0
          }
        }
      },
      "cell_type": "code",
      "source": [
        "W_init_sigma = 0.1\n",
        "W_tensor = tf.random_normal(shape=[1,capsule_primary_num_capsules, \n",
        "                                   capsule_digit_num_capsules,\n",
        "                                   capsule_digit_num_dimentions,\n",
        "                                   capsule_primary_num_dimentions\n",
        "                                   ],\n",
        "                            stddev=W_init_sigma,dtype=tf.float32,name=\"W_tensor\")\n",
        "W = tf.Variable(W_tensor,name=\"W\")"
      ],
      "execution_count": 0,
      "outputs": []
    },
    {
      "metadata": {
        "id": "DaqLji5raQhb",
        "colab_type": "code",
        "colab": {
          "autoexec": {
            "startup": false,
            "wait_interval": 0
          }
        }
      },
      "cell_type": "code",
      "source": [
        "batch_size = tf.shape(x_images)[0]\n",
        "W_tiled = tf.tile(W,[batch_size,1,1,1,1],name=\"W_tiled\")"
      ],
      "execution_count": 0,
      "outputs": []
    },
    {
      "metadata": {
        "id": "WvRKIJe2aTB1",
        "colab_type": "code",
        "colab": {
          "autoexec": {
            "startup": false,
            "wait_interval": 0
          }
        }
      },
      "cell_type": "code",
      "source": [
        "primary_capsule_output_expand = tf.expand_dims(primary_capsule_output,axis=-1,name=\"primary_capsule_output_expand\")"
      ],
      "execution_count": 0,
      "outputs": []
    },
    {
      "metadata": {
        "id": "vGDB8bh7aVEV",
        "colab_type": "code",
        "colab": {
          "autoexec": {
            "startup": false,
            "wait_interval": 0
          }
        }
      },
      "cell_type": "code",
      "source": [
        "primary_capsule_output_expand_for_digit = tf.expand_dims(primary_capsule_output_expand,axis=2,name=\"primary_capsule_output_expand_for_digit\")"
      ],
      "execution_count": 0,
      "outputs": []
    },
    {
      "metadata": {
        "id": "BC0vEWfLaXVT",
        "colab_type": "code",
        "colab": {
          "autoexec": {
            "startup": false,
            "wait_interval": 0
          }
        }
      },
      "cell_type": "code",
      "source": [
        "primary_capsule_output_tiled_digit = tf.tile(primary_capsule_output_expand_for_digit,[1,1,capsule_digit_num_capsules,1,1],name=\"primary_capsule_output_tiled_digit\")"
      ],
      "execution_count": 0,
      "outputs": []
    },
    {
      "metadata": {
        "id": "iAfAvAKbabdu",
        "colab_type": "code",
        "colab": {
          "autoexec": {
            "startup": false,
            "wait_interval": 0
          },
          "base_uri": "https://localhost:8080/",
          "height": 34
        },
        "outputId": "2615c091-70ba-418b-d86c-a6e579bbed7e",
        "executionInfo": {
          "status": "ok",
          "timestamp": 1530139372686,
          "user_tz": -330,
          "elapsed": 352,
          "user": {
            "displayName": "Amit Jaiswal",
            "photoUrl": "https://lh3.googleusercontent.com/a/default-user=s128",
            "userId": "102028172612648957868"
          }
        }
      },
      "cell_type": "code",
      "source": [
        "W_tiled"
      ],
      "execution_count": 31,
      "outputs": [
        {
          "output_type": "execute_result",
          "data": {
            "text/plain": [
              "<tf.Tensor 'W_tiled:0' shape=(?, 1152, 10, 16, 8) dtype=float32>"
            ]
          },
          "metadata": {
            "tags": []
          },
          "execution_count": 31
        }
      ]
    },
    {
      "metadata": {
        "id": "NfmFXuGuaerU",
        "colab_type": "code",
        "colab": {
          "autoexec": {
            "startup": false,
            "wait_interval": 0
          },
          "base_uri": "https://localhost:8080/",
          "height": 34
        },
        "outputId": "d36599e5-d3b7-4dcc-9539-3147d7e44fce",
        "executionInfo": {
          "status": "ok",
          "timestamp": 1530139379574,
          "user_tz": -330,
          "elapsed": 341,
          "user": {
            "displayName": "Amit Jaiswal",
            "photoUrl": "https://lh3.googleusercontent.com/a/default-user=s128",
            "userId": "102028172612648957868"
          }
        }
      },
      "cell_type": "code",
      "source": [
        "primary_capsule_output_tiled_digit"
      ],
      "execution_count": 32,
      "outputs": [
        {
          "output_type": "execute_result",
          "data": {
            "text/plain": [
              "<tf.Tensor 'primary_capsule_output_tiled_digit:0' shape=(?, 1152, 10, 8, 1) dtype=float32>"
            ]
          },
          "metadata": {
            "tags": []
          },
          "execution_count": 32
        }
      ]
    },
    {
      "metadata": {
        "id": "zNMmIXECagXF",
        "colab_type": "code",
        "colab": {
          "autoexec": {
            "startup": false,
            "wait_interval": 0
          }
        }
      },
      "cell_type": "code",
      "source": [
        "primary_capsule_predicts=tf.matmul(W_tiled,primary_capsule_output_tiled_digit,name=\"primary_capsule_predicts\")"
      ],
      "execution_count": 0,
      "outputs": []
    },
    {
      "metadata": {
        "id": "3LoJqkjcaiWs",
        "colab_type": "code",
        "colab": {
          "autoexec": {
            "startup": false,
            "wait_interval": 0
          },
          "base_uri": "https://localhost:8080/",
          "height": 34
        },
        "outputId": "c3ae1f35-da07-4bbb-9361-df09c0b12f3f",
        "executionInfo": {
          "status": "ok",
          "timestamp": 1530139395533,
          "user_tz": -330,
          "elapsed": 340,
          "user": {
            "displayName": "Amit Jaiswal",
            "photoUrl": "https://lh3.googleusercontent.com/a/default-user=s128",
            "userId": "102028172612648957868"
          }
        }
      },
      "cell_type": "code",
      "source": [
        "primary_capsule_predicts"
      ],
      "execution_count": 34,
      "outputs": [
        {
          "output_type": "execute_result",
          "data": {
            "text/plain": [
              "<tf.Tensor 'primary_capsule_predicts:0' shape=(?, 1152, 10, 16, 1) dtype=float32>"
            ]
          },
          "metadata": {
            "tags": []
          },
          "execution_count": 34
        }
      ]
    },
    {
      "metadata": {
        "id": "4N2WiN3GakQW",
        "colab_type": "code",
        "colab": {
          "autoexec": {
            "startup": false,
            "wait_interval": 0
          }
        }
      },
      "cell_type": "code",
      "source": [
        "b = tf.zeros(shape=[batch_size,capsule_primary_num_capsules,capsule_digit_num_capsules,1,1],name=\"b_weights\",dtype=tf.float32)\n",
        "c = tf.nn.softmax(b,axis=2,name=\"c_weights\")"
      ],
      "execution_count": 0,
      "outputs": []
    },
    {
      "metadata": {
        "id": "FjZjI_fzaqTW",
        "colab_type": "code",
        "colab": {
          "autoexec": {
            "startup": false,
            "wait_interval": 0
          },
          "base_uri": "https://localhost:8080/",
          "height": 34
        },
        "outputId": "ca4431a8-a3ee-404e-9e80-d309b7ac4c27",
        "executionInfo": {
          "status": "ok",
          "timestamp": 1530139423696,
          "user_tz": -330,
          "elapsed": 360,
          "user": {
            "displayName": "Amit Jaiswal",
            "photoUrl": "https://lh3.googleusercontent.com/a/default-user=s128",
            "userId": "102028172612648957868"
          }
        }
      },
      "cell_type": "code",
      "source": [
        "b"
      ],
      "execution_count": 36,
      "outputs": [
        {
          "output_type": "execute_result",
          "data": {
            "text/plain": [
              "<tf.Tensor 'b_weights:0' shape=(?, 1152, 10, 1, 1) dtype=float32>"
            ]
          },
          "metadata": {
            "tags": []
          },
          "execution_count": 36
        }
      ]
    },
    {
      "metadata": {
        "id": "l9FYXP2narIV",
        "colab_type": "code",
        "colab": {
          "autoexec": {
            "startup": false,
            "wait_interval": 0
          },
          "base_uri": "https://localhost:8080/",
          "height": 34
        },
        "outputId": "63761583-148c-4c00-ec22-2c9290e01660",
        "executionInfo": {
          "status": "ok",
          "timestamp": 1530139427383,
          "user_tz": -330,
          "elapsed": 357,
          "user": {
            "displayName": "Amit Jaiswal",
            "photoUrl": "https://lh3.googleusercontent.com/a/default-user=s128",
            "userId": "102028172612648957868"
          }
        }
      },
      "cell_type": "code",
      "source": [
        "c"
      ],
      "execution_count": 37,
      "outputs": [
        {
          "output_type": "execute_result",
          "data": {
            "text/plain": [
              "<tf.Tensor 'c_weights:0' shape=(?, 1152, 10, 1, 1) dtype=float32>"
            ]
          },
          "metadata": {
            "tags": []
          },
          "execution_count": 37
        }
      ]
    },
    {
      "metadata": {
        "id": "4_r_XrxSasB4",
        "colab_type": "code",
        "colab": {
          "autoexec": {
            "startup": false,
            "wait_interval": 0
          }
        }
      },
      "cell_type": "code",
      "source": [
        "primary_capsule_weighted_predictes = tf.multiply(c,primary_capsule_predicts,name=\"primary_capsule_weighted_predictes\")"
      ],
      "execution_count": 0,
      "outputs": []
    },
    {
      "metadata": {
        "id": "8clfb8uZavcz",
        "colab_type": "code",
        "colab": {
          "autoexec": {
            "startup": false,
            "wait_interval": 0
          },
          "base_uri": "https://localhost:8080/",
          "height": 34
        },
        "outputId": "e162476e-755d-43d4-b9f9-76d612de4e41",
        "executionInfo": {
          "status": "ok",
          "timestamp": 1530139448461,
          "user_tz": -330,
          "elapsed": 374,
          "user": {
            "displayName": "Amit Jaiswal",
            "photoUrl": "https://lh3.googleusercontent.com/a/default-user=s128",
            "userId": "102028172612648957868"
          }
        }
      },
      "cell_type": "code",
      "source": [
        "primary_capsule_weighted_predictes"
      ],
      "execution_count": 39,
      "outputs": [
        {
          "output_type": "execute_result",
          "data": {
            "text/plain": [
              "<tf.Tensor 'primary_capsule_weighted_predictes:0' shape=(?, 1152, 10, 16, 1) dtype=float32>"
            ]
          },
          "metadata": {
            "tags": []
          },
          "execution_count": 39
        }
      ]
    },
    {
      "metadata": {
        "id": "AvZLnnK7axKw",
        "colab_type": "code",
        "colab": {
          "autoexec": {
            "startup": false,
            "wait_interval": 0
          }
        }
      },
      "cell_type": "code",
      "source": [
        "digit_capsule_weighted_sum_input = tf.reduce_sum(primary_capsule_weighted_predictes,axis=1,keepdims=True,name=\"digit_capsule_weighted_sum_input\")"
      ],
      "execution_count": 0,
      "outputs": []
    },
    {
      "metadata": {
        "id": "wdDeBVEFa0wA",
        "colab_type": "code",
        "colab": {
          "autoexec": {
            "startup": false,
            "wait_interval": 0
          },
          "base_uri": "https://localhost:8080/",
          "height": 34
        },
        "outputId": "18190685-83fe-4b10-d28e-9612ba7b352e",
        "executionInfo": {
          "status": "ok",
          "timestamp": 1530139469562,
          "user_tz": -330,
          "elapsed": 436,
          "user": {
            "displayName": "Amit Jaiswal",
            "photoUrl": "https://lh3.googleusercontent.com/a/default-user=s128",
            "userId": "102028172612648957868"
          }
        }
      },
      "cell_type": "code",
      "source": [
        "digit_capsule_weighted_sum_input"
      ],
      "execution_count": 41,
      "outputs": [
        {
          "output_type": "execute_result",
          "data": {
            "text/plain": [
              "<tf.Tensor 'digit_capsule_weighted_sum_input:0' shape=(?, 1, 10, 16, 1) dtype=float32>"
            ]
          },
          "metadata": {
            "tags": []
          },
          "execution_count": 41
        }
      ]
    },
    {
      "metadata": {
        "id": "zYsLF6iVa2Th",
        "colab_type": "code",
        "colab": {
          "autoexec": {
            "startup": false,
            "wait_interval": 0
          }
        }
      },
      "cell_type": "code",
      "source": [
        "digit_capsule_output_round1 = squash(digit_capsule_weighted_sum_input,axis=-2,name=\"digit_capsule_output_round1\")"
      ],
      "execution_count": 0,
      "outputs": []
    },
    {
      "metadata": {
        "id": "hmgcR-gza4XI",
        "colab_type": "code",
        "colab": {
          "autoexec": {
            "startup": false,
            "wait_interval": 0
          },
          "base_uri": "https://localhost:8080/",
          "height": 34
        },
        "outputId": "38ef92b2-5d22-4182-eecb-6930a404908f",
        "executionInfo": {
          "status": "ok",
          "timestamp": 1530139487553,
          "user_tz": -330,
          "elapsed": 362,
          "user": {
            "displayName": "Amit Jaiswal",
            "photoUrl": "https://lh3.googleusercontent.com/a/default-user=s128",
            "userId": "102028172612648957868"
          }
        }
      },
      "cell_type": "code",
      "source": [
        "digit_capsule_output_round1"
      ],
      "execution_count": 43,
      "outputs": [
        {
          "output_type": "execute_result",
          "data": {
            "text/plain": [
              "<tf.Tensor 'digit_capsule_output_round1/mul:0' shape=(?, 1, 10, 16, 1) dtype=float32>"
            ]
          },
          "metadata": {
            "tags": []
          },
          "execution_count": 43
        }
      ]
    },
    {
      "metadata": {
        "id": "SL63is0Ya6uA",
        "colab_type": "code",
        "colab": {
          "autoexec": {
            "startup": false,
            "wait_interval": 0
          }
        }
      },
      "cell_type": "code",
      "source": [
        "digit_capsule_output_round1_tiled = tf.tile(digit_capsule_output_round1,[1,capsule_primary_num_capsules,1,1,1],name=\"digit_capsule_output_round1_tiled\")"
      ],
      "execution_count": 0,
      "outputs": []
    },
    {
      "metadata": {
        "id": "cLNQ7GxVa9_W",
        "colab_type": "code",
        "colab": {
          "autoexec": {
            "startup": false,
            "wait_interval": 0
          },
          "base_uri": "https://localhost:8080/",
          "height": 34
        },
        "outputId": "d74c5344-f56a-4192-b10c-54318f639a47",
        "executionInfo": {
          "status": "ok",
          "timestamp": 1530139538886,
          "user_tz": -330,
          "elapsed": 352,
          "user": {
            "displayName": "Amit Jaiswal",
            "photoUrl": "https://lh3.googleusercontent.com/a/default-user=s128",
            "userId": "102028172612648957868"
          }
        }
      },
      "cell_type": "code",
      "source": [
        "digit_capsule_output_round1_tiled"
      ],
      "execution_count": 46,
      "outputs": [
        {
          "output_type": "execute_result",
          "data": {
            "text/plain": [
              "<tf.Tensor 'digit_capsule_output_round1_tiled:0' shape=(?, 1152, 10, 16, 1) dtype=float32>"
            ]
          },
          "metadata": {
            "tags": []
          },
          "execution_count": 46
        }
      ]
    },
    {
      "metadata": {
        "id": "Jm11esDTbHQJ",
        "colab_type": "code",
        "colab": {
          "autoexec": {
            "startup": false,
            "wait_interval": 0
          }
        }
      },
      "cell_type": "code",
      "source": [
        "routing_agreement = tf.matmul(primary_capsule_predicts,digit_capsule_output_round1_tiled,transpose_a=True,name=\"routing_agreement\")"
      ],
      "execution_count": 0,
      "outputs": []
    },
    {
      "metadata": {
        "id": "Muh_XXfAbKd2",
        "colab_type": "code",
        "colab": {
          "autoexec": {
            "startup": false,
            "wait_interval": 0
          },
          "base_uri": "https://localhost:8080/",
          "height": 34
        },
        "outputId": "1807f206-ec29-4680-8196-e6f2aa29dca4",
        "executionInfo": {
          "status": "ok",
          "timestamp": 1530139557079,
          "user_tz": -330,
          "elapsed": 420,
          "user": {
            "displayName": "Amit Jaiswal",
            "photoUrl": "https://lh3.googleusercontent.com/a/default-user=s128",
            "userId": "102028172612648957868"
          }
        }
      },
      "cell_type": "code",
      "source": [
        "routing_agreement"
      ],
      "execution_count": 48,
      "outputs": [
        {
          "output_type": "execute_result",
          "data": {
            "text/plain": [
              "<tf.Tensor 'routing_agreement:0' shape=(?, 1152, 10, 1, 1) dtype=float32>"
            ]
          },
          "metadata": {
            "tags": []
          },
          "execution_count": 48
        }
      ]
    },
    {
      "metadata": {
        "id": "Df2JUB1XbLrL",
        "colab_type": "code",
        "colab": {
          "autoexec": {
            "startup": false,
            "wait_interval": 0
          },
          "base_uri": "https://localhost:8080/",
          "height": 34
        },
        "outputId": "47ac8c7f-e316-4baa-bc10-d3f62ca94c1f",
        "executionInfo": {
          "status": "ok",
          "timestamp": 1530139574323,
          "user_tz": -330,
          "elapsed": 357,
          "user": {
            "displayName": "Amit Jaiswal",
            "photoUrl": "https://lh3.googleusercontent.com/a/default-user=s128",
            "userId": "102028172612648957868"
          }
        }
      },
      "cell_type": "code",
      "source": [
        "b"
      ],
      "execution_count": 49,
      "outputs": [
        {
          "output_type": "execute_result",
          "data": {
            "text/plain": [
              "<tf.Tensor 'b_weights:0' shape=(?, 1152, 10, 1, 1) dtype=float32>"
            ]
          },
          "metadata": {
            "tags": []
          },
          "execution_count": 49
        }
      ]
    },
    {
      "metadata": {
        "id": "5sY6CZHybP5w",
        "colab_type": "code",
        "colab": {
          "autoexec": {
            "startup": false,
            "wait_interval": 0
          }
        }
      },
      "cell_type": "code",
      "source": [
        "b_round2 = tf.add(b,routing_agreement,name=\"b_round2\")"
      ],
      "execution_count": 0,
      "outputs": []
    },
    {
      "metadata": {
        "id": "iTL756EFbQaP",
        "colab_type": "code",
        "colab": {
          "autoexec": {
            "startup": false,
            "wait_interval": 0
          }
        }
      },
      "cell_type": "code",
      "source": [
        "c_round2 = tf.nn.softmax(b_round2,axis=2,name=\"c_round2\")"
      ],
      "execution_count": 0,
      "outputs": []
    },
    {
      "metadata": {
        "id": "y97zp8FcbSNG",
        "colab_type": "code",
        "colab": {
          "autoexec": {
            "startup": false,
            "wait_interval": 0
          }
        }
      },
      "cell_type": "code",
      "source": [
        "primary_capsule_weighted_predictes_round2 = tf.multiply(c_round2,primary_capsule_predicts,name=\"primary_capsule_weighted_predictes_round2\")"
      ],
      "execution_count": 0,
      "outputs": []
    },
    {
      "metadata": {
        "id": "yDVTvF-pbVNu",
        "colab_type": "code",
        "colab": {
          "autoexec": {
            "startup": false,
            "wait_interval": 0
          }
        }
      },
      "cell_type": "code",
      "source": [
        "digit_capsule_weighted_sum_input_round2 = tf.reduce_sum(primary_capsule_weighted_predictes_round2,axis=1,keepdims=True,\n",
        "                                                        name=\"digit_capsule_weighted_sum_input_round2\")"
      ],
      "execution_count": 0,
      "outputs": []
    },
    {
      "metadata": {
        "id": "gHa4FfacbXlx",
        "colab_type": "code",
        "colab": {
          "autoexec": {
            "startup": false,
            "wait_interval": 0
          }
        }
      },
      "cell_type": "code",
      "source": [
        "digit_capsule_output_round2 = squash(digit_capsule_weighted_sum_input_round2,axis=-2,name=\"digit_capsule_output_round2\")"
      ],
      "execution_count": 0,
      "outputs": []
    },
    {
      "metadata": {
        "id": "_Nk_5_7nbau8",
        "colab_type": "code",
        "colab": {
          "autoexec": {
            "startup": false,
            "wait_interval": 0
          },
          "base_uri": "https://localhost:8080/",
          "height": 34
        },
        "outputId": "74a3d79d-2225-414d-bc18-887011de74f9",
        "executionInfo": {
          "status": "ok",
          "timestamp": 1530139625991,
          "user_tz": -330,
          "elapsed": 331,
          "user": {
            "displayName": "Amit Jaiswal",
            "photoUrl": "https://lh3.googleusercontent.com/a/default-user=s128",
            "userId": "102028172612648957868"
          }
        }
      },
      "cell_type": "code",
      "source": [
        "digit_capsule_output_round2"
      ],
      "execution_count": 55,
      "outputs": [
        {
          "output_type": "execute_result",
          "data": {
            "text/plain": [
              "<tf.Tensor 'digit_capsule_output_round2/mul:0' shape=(?, 1, 10, 16, 1) dtype=float32>"
            ]
          },
          "metadata": {
            "tags": []
          },
          "execution_count": 55
        }
      ]
    },
    {
      "metadata": {
        "id": "SSQyAJvIbcg7",
        "colab_type": "code",
        "colab": {
          "autoexec": {
            "startup": false,
            "wait_interval": 0
          },
          "base_uri": "https://localhost:8080/",
          "height": 34
        },
        "outputId": "6a0ad280-c7e6-4f8a-f689-290303e29cee",
        "executionInfo": {
          "status": "ok",
          "timestamp": 1530139636512,
          "user_tz": -330,
          "elapsed": 320,
          "user": {
            "displayName": "Amit Jaiswal",
            "photoUrl": "https://lh3.googleusercontent.com/a/default-user=s128",
            "userId": "102028172612648957868"
          }
        }
      },
      "cell_type": "code",
      "source": [
        "primary_capsule_predicts"
      ],
      "execution_count": 56,
      "outputs": [
        {
          "output_type": "execute_result",
          "data": {
            "text/plain": [
              "<tf.Tensor 'primary_capsule_predicts:0' shape=(?, 1152, 10, 16, 1) dtype=float32>"
            ]
          },
          "metadata": {
            "tags": []
          },
          "execution_count": 56
        }
      ]
    },
    {
      "metadata": {
        "id": "m3DoGjbDbfFs",
        "colab_type": "code",
        "colab": {
          "autoexec": {
            "startup": false,
            "wait_interval": 0
          }
        }
      },
      "cell_type": "code",
      "source": [
        "digit_capsule_output_round2_tiled = tf.tile(digit_capsule_output_round2,[1,capsule_primary_num_capsules,1,1,1],name=\"digit_capsule_output_round2_tiled\")\n",
        "routing_agreement_2 = tf.matmul(primary_capsule_predicts,digit_capsule_output_round2_tiled,transpose_a=True,name=\"routing_agreement2\")\n",
        "b_round3 = tf.add(b_round2,routing_agreement_2,name=\"b_round3\")\n",
        "c_round3 = tf.nn.softmax(b_round3,axis=2,name=\"c_round3\")\n",
        "primary_capsule_weighted_predictes_round3 = tf.multiply(c_round3,primary_capsule_predicts,name=\"primary_capsule_weighted_predictes_round3\")\n",
        "digit_capsule_weighted_sum_input_round3 = tf.reduce_sum(primary_capsule_weighted_predictes_round3,axis=1,keepdims=True,\n",
        "                                                        name=\"digit_capsule_weighted_sum_input_round3\")\n",
        "digit_capsule_output_round3 = squash(digit_capsule_weighted_sum_input_round3,axis=-2,name=\"digit_capsule_output_round3\")"
      ],
      "execution_count": 0,
      "outputs": []
    },
    {
      "metadata": {
        "id": "4wB3mKuoboMd",
        "colab_type": "code",
        "colab": {
          "autoexec": {
            "startup": false,
            "wait_interval": 0
          }
        }
      },
      "cell_type": "code",
      "source": [
        "digit_capsule_output=digit_capsule_output_round3"
      ],
      "execution_count": 0,
      "outputs": []
    },
    {
      "metadata": {
        "id": "P2_11AT3bqEm",
        "colab_type": "code",
        "colab": {
          "autoexec": {
            "startup": false,
            "wait_interval": 0
          },
          "base_uri": "https://localhost:8080/",
          "height": 34
        },
        "outputId": "a06cecc6-346a-4306-eb4c-672056b1e37e",
        "executionInfo": {
          "status": "ok",
          "timestamp": 1530139686720,
          "user_tz": -330,
          "elapsed": 338,
          "user": {
            "displayName": "Amit Jaiswal",
            "photoUrl": "https://lh3.googleusercontent.com/a/default-user=s128",
            "userId": "102028172612648957868"
          }
        }
      },
      "cell_type": "code",
      "source": [
        "digit_capsule_output"
      ],
      "execution_count": 59,
      "outputs": [
        {
          "output_type": "execute_result",
          "data": {
            "text/plain": [
              "<tf.Tensor 'digit_capsule_output_round3/mul:0' shape=(?, 1, 10, 16, 1) dtype=float32>"
            ]
          },
          "metadata": {
            "tags": []
          },
          "execution_count": 59
        }
      ]
    },
    {
      "metadata": {
        "id": "1xJUBo4hbrWF",
        "colab_type": "code",
        "colab": {
          "autoexec": {
            "startup": false,
            "wait_interval": 0
          }
        }
      },
      "cell_type": "code",
      "source": [
        "def safe_norm(s,axis=-1,epsilon=1e-7,name=None,keepdims=False):\n",
        "    with tf.name_scope(name,default_name=\"safe_norm\"):\n",
        "        squred_sum = tf.reduce_sum(tf.square(s),axis=axis,keepdims=keepdims)\n",
        "        s_safe_norm = tf.sqrt(squred_sum+epsilon)\n",
        "        return s_safe_norm"
      ],
      "execution_count": 0,
      "outputs": []
    },
    {
      "metadata": {
        "id": "X1fOqOhPbuGs",
        "colab_type": "code",
        "colab": {
          "autoexec": {
            "startup": false,
            "wait_interval": 0
          }
        }
      },
      "cell_type": "code",
      "source": [
        "y_pred_prob = safe_norm(digit_capsule_output,axis=-2,name=\"y_pred_prob\")"
      ],
      "execution_count": 0,
      "outputs": []
    },
    {
      "metadata": {
        "id": "i0Ld-oyybxFT",
        "colab_type": "code",
        "colab": {
          "autoexec": {
            "startup": false,
            "wait_interval": 0
          },
          "base_uri": "https://localhost:8080/",
          "height": 34
        },
        "outputId": "37985216-a482-4e32-dfc0-23abece12ab6",
        "executionInfo": {
          "status": "ok",
          "timestamp": 1530139713724,
          "user_tz": -330,
          "elapsed": 343,
          "user": {
            "displayName": "Amit Jaiswal",
            "photoUrl": "https://lh3.googleusercontent.com/a/default-user=s128",
            "userId": "102028172612648957868"
          }
        }
      },
      "cell_type": "code",
      "source": [
        "y_pred_prob"
      ],
      "execution_count": 62,
      "outputs": [
        {
          "output_type": "execute_result",
          "data": {
            "text/plain": [
              "<tf.Tensor 'y_pred_prob/Sqrt:0' shape=(?, 1, 10, 1) dtype=float32>"
            ]
          },
          "metadata": {
            "tags": []
          },
          "execution_count": 62
        }
      ]
    },
    {
      "metadata": {
        "id": "qw9FL8S5bx71",
        "colab_type": "code",
        "colab": {
          "autoexec": {
            "startup": false,
            "wait_interval": 0
          }
        }
      },
      "cell_type": "code",
      "source": [
        "y_pred_argmax = tf.argmax(y_pred_prob,axis=2,name=\"y_pred_argmax\")"
      ],
      "execution_count": 0,
      "outputs": []
    },
    {
      "metadata": {
        "id": "1jB_EhYobzw2",
        "colab_type": "code",
        "colab": {
          "autoexec": {
            "startup": false,
            "wait_interval": 0
          },
          "base_uri": "https://localhost:8080/",
          "height": 34
        },
        "outputId": "e3c5273e-21f9-4352-c5d1-7feb5d065082",
        "executionInfo": {
          "status": "ok",
          "timestamp": 1530139725067,
          "user_tz": -330,
          "elapsed": 411,
          "user": {
            "displayName": "Amit Jaiswal",
            "photoUrl": "https://lh3.googleusercontent.com/a/default-user=s128",
            "userId": "102028172612648957868"
          }
        }
      },
      "cell_type": "code",
      "source": [
        "y_pred_argmax"
      ],
      "execution_count": 64,
      "outputs": [
        {
          "output_type": "execute_result",
          "data": {
            "text/plain": [
              "<tf.Tensor 'y_pred_argmax:0' shape=(?, 1, 1) dtype=int64>"
            ]
          },
          "metadata": {
            "tags": []
          },
          "execution_count": 64
        }
      ]
    },
    {
      "metadata": {
        "id": "xEDwciVVb0sE",
        "colab_type": "code",
        "colab": {
          "autoexec": {
            "startup": false,
            "wait_interval": 0
          }
        }
      },
      "cell_type": "code",
      "source": [
        "y_pred = tf.squeeze(y_pred_argmax,axis=[1,2],name=\"y_pred\")"
      ],
      "execution_count": 0,
      "outputs": []
    },
    {
      "metadata": {
        "id": "PJQ1BZKdb2ul",
        "colab_type": "code",
        "colab": {
          "autoexec": {
            "startup": false,
            "wait_interval": 0
          },
          "base_uri": "https://localhost:8080/",
          "height": 34
        },
        "outputId": "24904da7-8239-44b1-89d3-3af79d1e2c78",
        "executionInfo": {
          "status": "ok",
          "timestamp": 1530139737566,
          "user_tz": -330,
          "elapsed": 361,
          "user": {
            "displayName": "Amit Jaiswal",
            "photoUrl": "https://lh3.googleusercontent.com/a/default-user=s128",
            "userId": "102028172612648957868"
          }
        }
      },
      "cell_type": "code",
      "source": [
        "y_pred"
      ],
      "execution_count": 66,
      "outputs": [
        {
          "output_type": "execute_result",
          "data": {
            "text/plain": [
              "<tf.Tensor 'y_pred:0' shape=(?,) dtype=int64>"
            ]
          },
          "metadata": {
            "tags": []
          },
          "execution_count": 66
        }
      ]
    },
    {
      "metadata": {
        "id": "VYKDGVhDb3v-",
        "colab_type": "code",
        "colab": {
          "autoexec": {
            "startup": false,
            "wait_interval": 0
          }
        }
      },
      "cell_type": "code",
      "source": [
        "y_true = tf.placeholder(shape=[None],dtype=tf.int64,name=\"y_true\")"
      ],
      "execution_count": 0,
      "outputs": []
    },
    {
      "metadata": {
        "id": "eP1L3ybQb9CB",
        "colab_type": "text"
      },
      "cell_type": "markdown",
      "source": [
        "## Margin Loss"
      ]
    },
    {
      "metadata": {
        "id": "X1AQRpK0b7v1",
        "colab_type": "code",
        "colab": {
          "autoexec": {
            "startup": false,
            "wait_interval": 0
          }
        }
      },
      "cell_type": "code",
      "source": [
        "m_plus = 0.9\n",
        "m_minus = 0.1\n",
        "lambda_l = 0.5"
      ],
      "execution_count": 0,
      "outputs": []
    },
    {
      "metadata": {
        "id": "sU5vhcf_cBrQ",
        "colab_type": "code",
        "colab": {
          "autoexec": {
            "startup": false,
            "wait_interval": 0
          }
        }
      },
      "cell_type": "code",
      "source": [
        "T = tf.one_hot(y_true,depth=capsule_digit_num_capsules,name=\"T\")"
      ],
      "execution_count": 0,
      "outputs": []
    },
    {
      "metadata": {
        "id": "5mlAcuE8cCIa",
        "colab_type": "code",
        "colab": {
          "autoexec": {
            "startup": false,
            "wait_interval": 0
          },
          "base_uri": "https://localhost:8080/",
          "height": 34
        },
        "outputId": "d95c7fad-d976-415c-c4e8-493d391bb0bb",
        "executionInfo": {
          "status": "ok",
          "timestamp": 1530139787118,
          "user_tz": -330,
          "elapsed": 423,
          "user": {
            "displayName": "Amit Jaiswal",
            "photoUrl": "https://lh3.googleusercontent.com/a/default-user=s128",
            "userId": "102028172612648957868"
          }
        }
      },
      "cell_type": "code",
      "source": [
        "digit_capsule_output"
      ],
      "execution_count": 70,
      "outputs": [
        {
          "output_type": "execute_result",
          "data": {
            "text/plain": [
              "<tf.Tensor 'digit_capsule_output_round3/mul:0' shape=(?, 1, 10, 16, 1) dtype=float32>"
            ]
          },
          "metadata": {
            "tags": []
          },
          "execution_count": 70
        }
      ]
    },
    {
      "metadata": {
        "id": "Svj6BrJFcD1W",
        "colab_type": "code",
        "colab": {
          "autoexec": {
            "startup": false,
            "wait_interval": 0
          }
        }
      },
      "cell_type": "code",
      "source": [
        "digit_capsule_output_norm = safe_norm(digit_capsule_output,axis=-2,name=\"digit_capsule_output_norm\",keepdims=True)"
      ],
      "execution_count": 0,
      "outputs": []
    },
    {
      "metadata": {
        "id": "NBELIjrpcGKS",
        "colab_type": "code",
        "colab": {
          "autoexec": {
            "startup": false,
            "wait_interval": 0
          },
          "base_uri": "https://localhost:8080/",
          "height": 34
        },
        "outputId": "a0e5270e-df79-458c-8d38-0256e4f4d035",
        "executionInfo": {
          "status": "ok",
          "timestamp": 1530139801319,
          "user_tz": -330,
          "elapsed": 342,
          "user": {
            "displayName": "Amit Jaiswal",
            "photoUrl": "https://lh3.googleusercontent.com/a/default-user=s128",
            "userId": "102028172612648957868"
          }
        }
      },
      "cell_type": "code",
      "source": [
        "digit_capsule_output_norm"
      ],
      "execution_count": 72,
      "outputs": [
        {
          "output_type": "execute_result",
          "data": {
            "text/plain": [
              "<tf.Tensor 'digit_capsule_output_norm/Sqrt:0' shape=(?, 1, 10, 1, 1) dtype=float32>"
            ]
          },
          "metadata": {
            "tags": []
          },
          "execution_count": 72
        }
      ]
    },
    {
      "metadata": {
        "id": "Q_g8beiucHUd",
        "colab_type": "code",
        "colab": {
          "autoexec": {
            "startup": false,
            "wait_interval": 0
          }
        }
      },
      "cell_type": "code",
      "source": [
        "present_loss_raw = tf.square(tf.maximum(0.0,m_plus-digit_capsule_output_norm),name=\"present_loss_raw\")\n",
        "present_loss = tf.reshape(present_loss_raw,shape=[-1,capsule_digit_num_capsules],name=\"present_loss\")"
      ],
      "execution_count": 0,
      "outputs": []
    },
    {
      "metadata": {
        "id": "Vw5ProtfcLoQ",
        "colab_type": "code",
        "colab": {
          "autoexec": {
            "startup": false,
            "wait_interval": 0
          }
        }
      },
      "cell_type": "code",
      "source": [
        "absent_loss_raw = tf.square(tf.maximum(0.0,digit_capsule_output_norm-m_minus),name=\"absent_loss_raw\")\n",
        "absent_loss = tf.reshape(absent_loss_raw,shape=[-1,capsule_digit_num_capsules],name=\"absent_loss\")"
      ],
      "execution_count": 0,
      "outputs": []
    },
    {
      "metadata": {
        "id": "qdPPOn2rcNsI",
        "colab_type": "code",
        "colab": {
          "autoexec": {
            "startup": false,
            "wait_interval": 0
          }
        }
      },
      "cell_type": "code",
      "source": [
        "L = tf.add(T*present_loss,lambda_l*(1-T)*absent_loss,name=\"L\")"
      ],
      "execution_count": 0,
      "outputs": []
    },
    {
      "metadata": {
        "id": "X0pbRe1-cPT_",
        "colab_type": "code",
        "colab": {
          "autoexec": {
            "startup": false,
            "wait_interval": 0
          }
        }
      },
      "cell_type": "code",
      "source": [
        "# do reduce sum and mean over digit capsules L0,L1,...L9\n",
        "margin_loss = tf.reduce_mean(tf.reduce_sum(L,axis=1),name=\"margin_loss\")"
      ],
      "execution_count": 0,
      "outputs": []
    },
    {
      "metadata": {
        "id": "m4Oc-YMncSap",
        "colab_type": "text"
      },
      "cell_type": "markdown",
      "source": [
        "# MASKING"
      ]
    },
    {
      "metadata": {
        "id": "HwEjzG7IcRCq",
        "colab_type": "code",
        "colab": {
          "autoexec": {
            "startup": false,
            "wait_interval": 0
          }
        }
      },
      "cell_type": "code",
      "source": [
        "is_mask_with_labels = tf.placeholder_with_default(False,shape=(),name=\"is_mask_with_labels\")"
      ],
      "execution_count": 0,
      "outputs": []
    },
    {
      "metadata": {
        "id": "6lRE_Kk3cVw1",
        "colab_type": "code",
        "colab": {
          "autoexec": {
            "startup": false,
            "wait_interval": 0
          }
        }
      },
      "cell_type": "code",
      "source": [
        "reconstruct_target_label = tf.cond(is_mask_with_labels,\n",
        "                                   lambda:y_true,\n",
        "                                   lambda:y_pred,\n",
        "                                   name=\"reconstruct_target_label\")"
      ],
      "execution_count": 0,
      "outputs": []
    },
    {
      "metadata": {
        "id": "A6HSvFF0cXt4",
        "colab_type": "code",
        "colab": {
          "autoexec": {
            "startup": false,
            "wait_interval": 0
          }
        }
      },
      "cell_type": "code",
      "source": [
        "reconstruct_mask = tf.one_hot(reconstruct_target_label,depth=capsule_digit_num_capsules,name=\"reconstruct_mask\")"
      ],
      "execution_count": 0,
      "outputs": []
    },
    {
      "metadata": {
        "id": "EVu8KLFjccNm",
        "colab_type": "code",
        "colab": {
          "autoexec": {
            "startup": false,
            "wait_interval": 0
          },
          "base_uri": "https://localhost:8080/",
          "height": 34
        },
        "outputId": "0359c260-357c-4e3c-e5f0-2ed49edf6edb",
        "executionInfo": {
          "status": "ok",
          "timestamp": 1530139892644,
          "user_tz": -330,
          "elapsed": 365,
          "user": {
            "displayName": "Amit Jaiswal",
            "photoUrl": "https://lh3.googleusercontent.com/a/default-user=s128",
            "userId": "102028172612648957868"
          }
        }
      },
      "cell_type": "code",
      "source": [
        "reconstruct_mask"
      ],
      "execution_count": 81,
      "outputs": [
        {
          "output_type": "execute_result",
          "data": {
            "text/plain": [
              "<tf.Tensor 'reconstruct_mask:0' shape=(?, 10) dtype=float32>"
            ]
          },
          "metadata": {
            "tags": []
          },
          "execution_count": 81
        }
      ]
    },
    {
      "metadata": {
        "id": "Z2_PAtt4cdmz",
        "colab_type": "code",
        "colab": {
          "autoexec": {
            "startup": false,
            "wait_interval": 0
          },
          "base_uri": "https://localhost:8080/",
          "height": 34
        },
        "outputId": "af98e3c2-bd9c-4415-8bf2-a89b8d4dbe9d",
        "executionInfo": {
          "status": "ok",
          "timestamp": 1530139899786,
          "user_tz": -330,
          "elapsed": 344,
          "user": {
            "displayName": "Amit Jaiswal",
            "photoUrl": "https://lh3.googleusercontent.com/a/default-user=s128",
            "userId": "102028172612648957868"
          }
        }
      },
      "cell_type": "code",
      "source": [
        "digit_capsule_output"
      ],
      "execution_count": 82,
      "outputs": [
        {
          "output_type": "execute_result",
          "data": {
            "text/plain": [
              "<tf.Tensor 'digit_capsule_output_round3/mul:0' shape=(?, 1, 10, 16, 1) dtype=float32>"
            ]
          },
          "metadata": {
            "tags": []
          },
          "execution_count": 82
        }
      ]
    },
    {
      "metadata": {
        "id": "CiSOajWKcfW1",
        "colab_type": "code",
        "colab": {
          "autoexec": {
            "startup": false,
            "wait_interval": 0
          }
        }
      },
      "cell_type": "code",
      "source": [
        "reconstruct_mask_reshaped = tf.reshape(reconstruct_mask,shape=[-1,1,capsule_digit_num_capsules,1,1],name=\"reconstruct_mask_reshaped\")"
      ],
      "execution_count": 0,
      "outputs": []
    },
    {
      "metadata": {
        "id": "3Fmg2KPFcicT",
        "colab_type": "code",
        "colab": {
          "autoexec": {
            "startup": false,
            "wait_interval": 0
          }
        }
      },
      "cell_type": "code",
      "source": [
        "reconstruct_input = tf.multiply(reconstruct_mask_reshaped,digit_capsule_output,name=\"reconstruct_input\")"
      ],
      "execution_count": 0,
      "outputs": []
    },
    {
      "metadata": {
        "id": "kXTtobBrckTe",
        "colab_type": "code",
        "colab": {
          "autoexec": {
            "startup": false,
            "wait_interval": 0
          },
          "base_uri": "https://localhost:8080/",
          "height": 34
        },
        "outputId": "7754e6b9-1fcc-4789-f2ba-8e3757d58b2b",
        "executionInfo": {
          "status": "ok",
          "timestamp": 1530139926495,
          "user_tz": -330,
          "elapsed": 354,
          "user": {
            "displayName": "Amit Jaiswal",
            "photoUrl": "https://lh3.googleusercontent.com/a/default-user=s128",
            "userId": "102028172612648957868"
          }
        }
      },
      "cell_type": "code",
      "source": [
        "reconstruct_input"
      ],
      "execution_count": 85,
      "outputs": [
        {
          "output_type": "execute_result",
          "data": {
            "text/plain": [
              "<tf.Tensor 'reconstruct_input:0' shape=(?, 1, 10, 16, 1) dtype=float32>"
            ]
          },
          "metadata": {
            "tags": []
          },
          "execution_count": 85
        }
      ]
    },
    {
      "metadata": {
        "id": "YAwCbOKicl3z",
        "colab_type": "code",
        "colab": {
          "autoexec": {
            "startup": false,
            "wait_interval": 0
          }
        }
      },
      "cell_type": "code",
      "source": [
        "reconstruct_input_flattened = tf.reshape(reconstruct_input,\n",
        "                                         shape=[-1,capsule_digit_num_capsules*capsule_digit_num_dimentions],name=\"reconstruct_input_flattened\")"
      ],
      "execution_count": 0,
      "outputs": []
    },
    {
      "metadata": {
        "id": "x6W8gg87coxQ",
        "colab_type": "code",
        "colab": {
          "autoexec": {
            "startup": false,
            "wait_interval": 0
          },
          "base_uri": "https://localhost:8080/",
          "height": 34
        },
        "outputId": "b7f15477-7e9b-4664-9f8e-344349f9626a",
        "executionInfo": {
          "status": "ok",
          "timestamp": 1530139945946,
          "user_tz": -330,
          "elapsed": 397,
          "user": {
            "displayName": "Amit Jaiswal",
            "photoUrl": "https://lh3.googleusercontent.com/a/default-user=s128",
            "userId": "102028172612648957868"
          }
        }
      },
      "cell_type": "code",
      "source": [
        "reconstruct_input_flattened"
      ],
      "execution_count": 87,
      "outputs": [
        {
          "output_type": "execute_result",
          "data": {
            "text/plain": [
              "<tf.Tensor 'reconstruct_input_flattened:0' shape=(?, 160) dtype=float32>"
            ]
          },
          "metadata": {
            "tags": []
          },
          "execution_count": 87
        }
      ]
    },
    {
      "metadata": {
        "id": "W50MgoqUcqnH",
        "colab_type": "code",
        "colab": {
          "autoexec": {
            "startup": false,
            "wait_interval": 0
          }
        }
      },
      "cell_type": "code",
      "source": [
        "# now we have our decoder input\n",
        "decoder_input = reconstruct_input_flattened"
      ],
      "execution_count": 0,
      "outputs": []
    },
    {
      "metadata": {
        "id": "K3jRK2QZcuGN",
        "colab_type": "code",
        "colab": {
          "autoexec": {
            "startup": false,
            "wait_interval": 0
          }
        }
      },
      "cell_type": "code",
      "source": [
        "num_hidden1 = 512\n",
        "num_hidden2 = 1024\n",
        "num_output = 28*28"
      ],
      "execution_count": 0,
      "outputs": []
    },
    {
      "metadata": {
        "id": "IB2CEtMMcxa9",
        "colab_type": "code",
        "colab": {
          "autoexec": {
            "startup": false,
            "wait_interval": 0
          }
        }
      },
      "cell_type": "code",
      "source": [
        "with tf.name_scope(\"decoder\"):\n",
        "    hidden1 = tf.layers.dense(inputs=decoder_input,activation=tf.nn.relu,units=num_hidden1,name=\"hidden1\")\n",
        "    hidden2 = tf.layers.dense(inputs=hidden1,activation=tf.nn.relu,units=num_hidden2,name=\"hidden2\")\n",
        "    decoder_output = tf.layers.dense(inputs=hidden2,activation=tf.nn.sigmoid,units=num_output,name=\"output\")"
      ],
      "execution_count": 0,
      "outputs": []
    },
    {
      "metadata": {
        "id": "Bqc0OF6VczgY",
        "colab_type": "code",
        "colab": {
          "autoexec": {
            "startup": false,
            "wait_interval": 0
          }
        }
      },
      "cell_type": "code",
      "source": [
        "x_flat = tf.reshape(x_images,shape=[-1,num_output],name=\"x_flat\")"
      ],
      "execution_count": 0,
      "outputs": []
    },
    {
      "metadata": {
        "id": "V5xsZrz8c1HT",
        "colab_type": "code",
        "colab": {
          "autoexec": {
            "startup": false,
            "wait_interval": 0
          }
        }
      },
      "cell_type": "code",
      "source": [
        "squared_distance = tf.square(x_flat-decoder_output,name=\"squared_distance\")"
      ],
      "execution_count": 0,
      "outputs": []
    },
    {
      "metadata": {
        "id": "8dx7yPnPc2yw",
        "colab_type": "code",
        "colab": {
          "autoexec": {
            "startup": false,
            "wait_interval": 0
          }
        }
      },
      "cell_type": "code",
      "source": [
        "squared_loss = tf.reduce_mean(squared_distance,name=\"squared_loss\")"
      ],
      "execution_count": 0,
      "outputs": []
    },
    {
      "metadata": {
        "id": "wtkGLPoGc4Yo",
        "colab_type": "code",
        "colab": {
          "autoexec": {
            "startup": false,
            "wait_interval": 0
          }
        }
      },
      "cell_type": "code",
      "source": [
        "alpha = 0.0005"
      ],
      "execution_count": 0,
      "outputs": []
    },
    {
      "metadata": {
        "id": "Cr1HWI4Ic8LG",
        "colab_type": "code",
        "colab": {
          "autoexec": {
            "startup": false,
            "wait_interval": 0
          }
        }
      },
      "cell_type": "code",
      "source": [
        "total_loss = tf.add(margin_loss,alpha*squared_loss)"
      ],
      "execution_count": 0,
      "outputs": []
    },
    {
      "metadata": {
        "id": "zrDEJBuUc8rt",
        "colab_type": "code",
        "colab": {
          "autoexec": {
            "startup": false,
            "wait_interval": 0
          }
        }
      },
      "cell_type": "code",
      "source": [
        "correct = tf.equal(y_true,y_pred)"
      ],
      "execution_count": 0,
      "outputs": []
    },
    {
      "metadata": {
        "id": "ch1ossvHc-L2",
        "colab_type": "code",
        "colab": {
          "autoexec": {
            "startup": false,
            "wait_interval": 0
          }
        }
      },
      "cell_type": "code",
      "source": [
        "accuracy = tf.reduce_mean(tf.cast(correct,dtype=tf.float32),name=\"accuracy\")"
      ],
      "execution_count": 0,
      "outputs": []
    },
    {
      "metadata": {
        "id": "oZYIRFGYdAW_",
        "colab_type": "code",
        "colab": {
          "autoexec": {
            "startup": false,
            "wait_interval": 0
          }
        }
      },
      "cell_type": "code",
      "source": [
        "optim = tf.train.AdamOptimizer()"
      ],
      "execution_count": 0,
      "outputs": []
    },
    {
      "metadata": {
        "id": "igYk8qkadCF6",
        "colab_type": "code",
        "colab": {
          "autoexec": {
            "startup": false,
            "wait_interval": 0
          }
        }
      },
      "cell_type": "code",
      "source": [
        "train_op = optim.minimize(loss=total_loss,name=\"train_op\")"
      ],
      "execution_count": 0,
      "outputs": []
    },
    {
      "metadata": {
        "id": "okEK8VoadEoH",
        "colab_type": "text"
      },
      "cell_type": "markdown",
      "source": [
        "## Checkpoint"
      ]
    },
    {
      "metadata": {
        "id": "Q1yDb_CsdDm4",
        "colab_type": "code",
        "colab": {
          "autoexec": {
            "startup": false,
            "wait_interval": 0
          }
        }
      },
      "cell_type": "code",
      "source": [
        "init = tf.global_variables_initializer()\n",
        "saver = tf.train.Saver()"
      ],
      "execution_count": 0,
      "outputs": []
    },
    {
      "metadata": {
        "id": "FiJYcZt8dHsA",
        "colab_type": "code",
        "colab": {
          "autoexec": {
            "startup": false,
            "wait_interval": 0
          }
        }
      },
      "cell_type": "code",
      "source": [
        "train_batch_size = 50\n",
        "num_epochs = 10\n",
        "restore_from_checkpoint=False"
      ],
      "execution_count": 0,
      "outputs": []
    },
    {
      "metadata": {
        "id": "46e8YeKDdKhO",
        "colab_type": "code",
        "colab": {
          "autoexec": {
            "startup": false,
            "wait_interval": 0
          }
        }
      },
      "cell_type": "code",
      "source": [
        "num_iterations_per_epoch_train = mnist.train.num_examples // train_batch_size\n",
        "num_iterations_val = mnist.validation.num_examples // train_batch_size\n",
        "best_val_loss = np.infty\n",
        "checkpoint_path=\"./checkpoints/capsule_net_dynamic_routing_checkpoint\""
      ],
      "execution_count": 0,
      "outputs": []
    },
    {
      "metadata": {
        "id": "-2PyYcQ1dPIy",
        "colab_type": "code",
        "colab": {
          "autoexec": {
            "startup": false,
            "wait_interval": 0
          }
        }
      },
      "cell_type": "code",
      "source": [
        "config = tf.ConfigProto()\n",
        "config.gpu_options.allow_growth=True"
      ],
      "execution_count": 0,
      "outputs": []
    },
    {
      "metadata": {
        "id": "4M2S-qEbdRwG",
        "colab_type": "code",
        "colab": {
          "autoexec": {
            "startup": false,
            "wait_interval": 0
          },
          "base_uri": "https://localhost:8080/",
          "height": 204
        },
        "outputId": "77a1f2f5-0f1d-4943-e3b1-4fe4688a176b",
        "executionInfo": {
          "status": "ok",
          "timestamp": 1530146010595,
          "user_tz": -330,
          "elapsed": 5866877,
          "user": {
            "displayName": "Amit Jaiswal",
            "photoUrl": "https://lh3.googleusercontent.com/a/default-user=s128",
            "userId": "102028172612648957868"
          }
        }
      },
      "cell_type": "code",
      "source": [
        "with tf.Session(config=config) as sess:\n",
        "    if restore_from_checkpoint and tf.train.checkpoint_exists(checkpoint_path):\n",
        "        saver.restore(sess,checkpoint_path)\n",
        "    else:\n",
        "        sess.run(init)\n",
        "    \n",
        "    \n",
        "    for epoch in range(1,num_epochs+1):\n",
        "        for iteration in range(1,num_iterations_per_epoch_train+1):\n",
        "            x_batch,y_batch = mnist.train.next_batch(train_batch_size)\n",
        "            _,train_loss=sess.run([train_op,total_loss],\n",
        "                                  feed_dict={\n",
        "                                      x_images:x_batch.reshape([-1,image_size,image_size,1]),\n",
        "                                      y_true:y_batch,\n",
        "                                      is_mask_with_labels:True\n",
        "                                  })\n",
        "            print(\"\\repoch:{},iteration:{:5}/{:5},train_loss:{:.5f}\"\n",
        "                  .format(epoch,iteration,num_iterations_per_epoch_train,train_loss),end=\"\")\n",
        "        \n",
        "        # epoch&validation\n",
        "        loss_values=[]\n",
        "        accuracy_values=[]\n",
        "        \n",
        "        for iteration in range(1,num_iterations_val+1):\n",
        "            x_batch_val,y_batch_val = mnist.validation.next_batch(train_batch_size)\n",
        "            loss_val,acc_val = sess.run([total_loss,accuracy],feed_dict={\n",
        "                x_images:x_batch_val.reshape([-1,image_size,image_size,1]),\n",
        "                y_true:y_batch_val,\n",
        "                is_mask_with_labels:False\n",
        "            })\n",
        "            loss_values.append(loss_val)\n",
        "            accuracy_values.append(acc_val)\n",
        "            print(\"\\rvalidate the model:{}/{}\".format(iteration,num_iterations_val),end=\" \"*15)\n",
        "        loss_val_mean = np.mean(loss_values)\n",
        "        accuracy_val_mean = np.mean(accuracy_values)\n",
        "        print(\"\\rafter {:2} epoch,validation accuracy is:{:.5f} %, val_loss:{:.5f}{}\"\n",
        "              .format(epoch,accuracy_val_mean,loss_val_mean,\"[improved]\" if best_val_loss>loss_val_mean else \"\"))\n",
        "        \n",
        "        if best_val_loss > loss_val_mean:\n",
        "            saver.save(sess,checkpoint_path)\n",
        "            best_val_loss = loss_val_mean\n",
        "print(\"Done\")"
      ],
      "execution_count": 104,
      "outputs": [
        {
          "output_type": "stream",
          "text": [
            "after  1 epoch,validation accuracy is:0.98800 %, val_loss:0.01655[improved]\n",
            "epoch:2,iteration:  364/ 1100,train_loss:0.00897"
          ],
          "name": "stdout"
        },
        {
          "output_type": "stream",
          "text": [
            "after  2 epoch,validation accuracy is:0.98960 %, val_loss:0.01093[improved]\n",
            "epoch:3,iteration:  505/ 1100,train_loss:0.00632"
          ],
          "name": "stdout"
        },
        {
          "output_type": "stream",
          "text": [
            "after  3 epoch,validation accuracy is:0.99300 %, val_loss:0.00878[improved]\n",
            "epoch:4,iteration:  559/ 1100,train_loss:0.00866"
          ],
          "name": "stdout"
        },
        {
          "output_type": "stream",
          "text": [
            "after  4 epoch,validation accuracy is:0.99240 %, val_loss:0.00915\n",
            "epoch:5,iteration:  631/ 1100,train_loss:0.00179"
          ],
          "name": "stdout"
        },
        {
          "output_type": "stream",
          "text": [
            "after  5 epoch,validation accuracy is:0.99140 %, val_loss:0.00813[improved]\n",
            "epoch:6,iteration:  608/ 1100,train_loss:0.00892"
          ],
          "name": "stdout"
        },
        {
          "output_type": "stream",
          "text": [
            "after  6 epoch,validation accuracy is:0.99140 %, val_loss:0.00851\n",
            "epoch:7,iteration:  652/ 1100,train_loss:0.00130"
          ],
          "name": "stdout"
        },
        {
          "output_type": "stream",
          "text": [
            "after  7 epoch,validation accuracy is:0.99120 %, val_loss:0.00913\n",
            "epoch:8,iteration:  670/ 1100,train_loss:0.00042"
          ],
          "name": "stdout"
        },
        {
          "output_type": "stream",
          "text": [
            "after  8 epoch,validation accuracy is:0.99240 %, val_loss:0.00839\n",
            "epoch:9,iteration:  678/ 1100,train_loss:0.00152"
          ],
          "name": "stdout"
        },
        {
          "output_type": "stream",
          "text": [
            "after  9 epoch,validation accuracy is:0.99120 %, val_loss:0.00865\n",
            "epoch:10,iteration:  675/ 1100,train_loss:0.00055"
          ],
          "name": "stdout"
        },
        {
          "output_type": "stream",
          "text": [
            "after 10 epoch,validation accuracy is:0.99100 %, val_loss:0.00902\n",
            "Done\n"
          ],
          "name": "stdout"
        }
      ]
    },
    {
      "metadata": {
        "id": "IBQ0MHszda_A",
        "colab_type": "code",
        "colab": {
          "autoexec": {
            "startup": false,
            "wait_interval": 0
          }
        }
      },
      "cell_type": "code",
      "source": [
        "num_iteration_test = mnist.test.num_examples #train_batch_size"
      ],
      "execution_count": 0,
      "outputs": []
    },
    {
      "metadata": {
        "id": "o0_--IHudq2Z",
        "colab_type": "code",
        "colab": {
          "autoexec": {
            "startup": false,
            "wait_interval": 0
          },
          "base_uri": "https://localhost:8080/",
          "height": 51
        },
        "outputId": "3aea16ee-c6db-44ac-cc19-29be49d7f76d",
        "executionInfo": {
          "status": "ok",
          "timestamp": 1530147709209,
          "user_tz": -330,
          "elapsed": 1694640,
          "user": {
            "displayName": "Amit Jaiswal",
            "photoUrl": "https://lh3.googleusercontent.com/a/default-user=s128",
            "userId": "102028172612648957868"
          }
        }
      },
      "cell_type": "code",
      "source": [
        "with tf.Session(config=config) as sess:\n",
        "    saver.restore(sess,checkpoint_path)\n",
        "    loss_test=[]\n",
        "    acc_test=[]\n",
        "    for iteration in range(1,num_iteration_test+1):\n",
        "        x_batch_test,y_batch_test = mnist.test.next_batch(train_batch_size)\n",
        "        test_loss,test_acc = sess.run([total_loss,accuracy],feed_dict={\n",
        "            x_images:x_batch_test.reshape([-1,image_size,image_size,1]),\n",
        "            y_true:y_batch_test\n",
        "        })\n",
        "        loss_test.append(test_loss)\n",
        "        acc_test.append(test_acc)\n",
        "        print(\"\\rtest {:5}/{:5},test loss:{:.5f},test acc:{:.5f}\".format(iteration,num_iteration_test,test_loss,test_acc),end=\" \"*10)\n",
        "    loss_test_mean = np.mean(loss_test)\n",
        "    acc_test_mean = np.mean(acc_test)\n",
        "    print(\"\\rFinal test acc is:{:.5f} , and test loss is :{:.5f}\".format(acc_test_mean,loss_test_mean))"
      ],
      "execution_count": 106,
      "outputs": [
        {
          "output_type": "stream",
          "text": [
            "INFO:tensorflow:Restoring parameters from ./checkpoints/capsule_net_dynamic_routing_checkpoint\n",
            "test  1278/10000,test loss:0.00828,test acc:1.00000          "
          ],
          "name": "stdout"
        },
        {
          "output_type": "stream",
          "text": [
            "Final test acc is:0.99270 , and test loss is :0.00777\n"
          ],
          "name": "stdout"
        }
      ]
    }
  ]
}